{
  "nbformat": 4,
  "nbformat_minor": 0,
  "metadata": {
    "colab": {
      "provenance": [],
      "authorship_tag": "ABX9TyNyBr9785GmtIydj5sjuHjB",
      "include_colab_link": true
    },
    "kernelspec": {
      "name": "python3",
      "display_name": "Python 3"
    },
    "language_info": {
      "name": "python"
    }
  },
  "cells": [
    {
      "cell_type": "markdown",
      "metadata": {
        "id": "view-in-github",
        "colab_type": "text"
      },
      "source": [
        "<a href=\"https://colab.research.google.com/github/adamott/AdamTraining/blob/main/Day4_Functions.ipynb\" target=\"_parent\"><img src=\"https://colab.research.google.com/assets/colab-badge.svg\" alt=\"Open In Colab\"/></a>"
      ]
    },
    {
      "source": [
        "# Function with parameters\n",
        "def greet_person(name):\n",
        "    print(f\"Hello, {name}!\")\n",
        "\n",
        "greet_person(\"Adam\")\n",
        "\n",
        "# Function with return\n",
        "def add(a, b):\n",
        "    return a + b\n",
        "\n",
        "result = add(5, 38)\n",
        "print(\"The sum is:\", result)"
      ],
      "cell_type": "code",
      "metadata": {
        "colab": {
          "base_uri": "https://localhost:8080/"
        },
        "id": "Ih2xFQwJLkHh",
        "outputId": "025d62e3-dfdc-4d82-eee8-9a44ed4a0f69"
      },
      "execution_count": null,
      "outputs": [
        {
          "output_type": "stream",
          "name": "stdout",
          "text": [
            "Hello, Adam!\n",
            "The sum is: 43\n"
          ]
        }
      ]
    },
    {
      "cell_type": "markdown",
      "source": [
        "HELLO ALICE"
      ],
      "metadata": {
        "id": "6AaiOw4YM6rB"
      }
    },
    {
      "source": [
        "def greet(name):\n",
        "    return f\"Hello, {name}!\"\n",
        "\n",
        "# Test\n",
        "print(greet(\"Alice\"))  # Should output \"Hello, Alice!\""
      ],
      "cell_type": "code",
      "metadata": {
        "colab": {
          "base_uri": "https://localhost:8080/"
        },
        "id": "d6z9tO8gMsFQ",
        "outputId": "0d98b75e-ef4f-4c87-9772-ff44e519c374"
      },
      "execution_count": 9,
      "outputs": [
        {
          "output_type": "stream",
          "name": "stdout",
          "text": [
            "Hello, Alice!\n"
          ]
        }
      ]
    },
    {
      "cell_type": "markdown",
      "source": [
        "AREA FINDER"
      ],
      "metadata": {
        "id": "vwdL6LJ0NtHW"
      }
    },
    {
      "source": [
        "def multiply_list(numbers):\n",
        "    total = 1\n",
        "    for num in numbers:\n",
        "        total *= num  # This line was indented too much\n",
        "    return total  # This line was indented too much\n",
        "\n",
        "# Test\n",
        "print(multiply_list([6, 6, 4]))  # Should output 144"
      ],
      "cell_type": "code",
      "metadata": {
        "id": "YhccnrgFOHy1",
        "outputId": "47c79f78-db09-4b16-e8af-8e0058f6846e",
        "colab": {
          "base_uri": "https://localhost:8080/"
        }
      },
      "execution_count": 26,
      "outputs": [
        {
          "output_type": "stream",
          "name": "stdout",
          "text": [
            "144\n"
          ]
        }
      ]
    },
    {
      "cell_type": "markdown",
      "source": [
        "REPEATED STRINGS"
      ],
      "metadata": {
        "id": "Xd1qSOEAOeJo"
      }
    },
    {
      "source": [
        "def repeat_string(s, n):\n",
        "    result = \"\"\n",
        "    for _ in range(n):\n",
        "        result += s\n",
        "    return result\n",
        "\n",
        "# Test\n",
        "print(repeat_string(\"Hi\", 3))  # \"HiHiHi\""
      ],
      "cell_type": "code",
      "metadata": {
        "id": "lJ6zQFVzOptD",
        "outputId": "c6471813-891c-4fec-b78e-4c13809f41ed",
        "colab": {
          "base_uri": "https://localhost:8080/"
        }
      },
      "execution_count": 28,
      "outputs": [
        {
          "output_type": "stream",
          "name": "stdout",
          "text": [
            "HiHiHi\n"
          ]
        }
      ]
    }
  ]
}