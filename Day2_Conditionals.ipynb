{
  "nbformat": 4,
  "nbformat_minor": 0,
  "metadata": {
    "colab": {
      "provenance": [],
      "authorship_tag": "ABX9TyPO/fD96Ad9+SDm3S27IqlR",
      "include_colab_link": true
    },
    "kernelspec": {
      "name": "python3",
      "display_name": "Python 3"
    },
    "language_info": {
      "name": "python"
    }
  },
  "cells": [
    {
      "cell_type": "markdown",
      "metadata": {
        "id": "view-in-github",
        "colab_type": "text"
      },
      "source": [
        "<a href=\"https://colab.research.google.com/github/adamott/AdamTraining/blob/main/Day2_Conditionals.ipynb\" target=\"_parent\"><img src=\"https://colab.research.google.com/assets/colab-badge.svg\" alt=\"Open In Colab\"/></a>"
      ]
    },
    {
      "cell_type": "code",
      "source": [],
      "metadata": {
        "id": "6yTDPC-szIko"
      },
      "execution_count": null,
      "outputs": []
    },
    {
      "cell_type": "markdown",
      "source": [
        "GRADE CONVERTER"
      ],
      "metadata": {
        "id": "zVrfFnMA3yXB"
      }
    },
    {
      "source": [
        "grade = int(input(\"Enter your grade: \"))  # Get input from the user\n",
        "\n",
        "if grade >= 90:\n",
        "    print(\"A\")\n",
        "elif grade >= 80:\n",
        "    print(\"B\")\n",
        "elif grade >= 70:\n",
        "    print(\"C\")\n",
        "elif grade >= 60:\n",
        "    print(\"D\")\n",
        "else:\n",
        "    print(\"F\")"
      ],
      "cell_type": "code",
      "metadata": {
        "colab": {
          "base_uri": "https://localhost:8080/"
        },
        "id": "UdjJAaW25Cv6",
        "outputId": "77ab18a7-45df-45e3-82cd-215c8232d9b7"
      },
      "execution_count": 30,
      "outputs": [
        {
          "output_type": "stream",
          "name": "stdout",
          "text": [
            "Enter your grade: 85\n",
            "B\n"
          ]
        }
      ]
    },
    {
      "cell_type": "markdown",
      "source": [
        "AGE CHECKER"
      ],
      "metadata": {
        "id": "z71pKiOD0liA"
      }
    },
    {
      "cell_type": "code",
      "source": [
        "age = int(input(\"Enter your age: \"))\n",
        "\n",
        "if age >= 21:\n",
        "    print(\"You can vote and drink alcohol.\")\n",
        "elif age >= 18:\n",
        "    print(\"You can vote, but cannot drink alcohol.\")\n",
        "else:\n",
        "    print(\"You need parental consent.\")"
      ],
      "metadata": {
        "colab": {
          "base_uri": "https://localhost:8080/"
        },
        "id": "shSfZx7X1C-3",
        "outputId": "9c2a51c4-fa47-42ca-f02e-315fb2b3ed29"
      },
      "execution_count": 14,
      "outputs": [
        {
          "output_type": "stream",
          "name": "stdout",
          "text": [
            "Enter your age: 19\n",
            "You can vote, but cannot drink alcohol.\n"
          ]
        }
      ]
    },
    {
      "cell_type": "markdown",
      "source": [
        "WEATHER ADVISOR"
      ],
      "metadata": {
        "id": "3yhj_DCW1pVy"
      }
    },
    {
      "source": [
        "temp = int(input(\"Enter temperature (°F): \"))\n",
        "\n",
        "if temp < 60:\n",
        "    print(\"Wear a jacket.\")\n",
        "elif 60 <= temp <= 80:\n",
        "    print(\"T-shirt weather.\")\n",
        "else:\n",
        "    print(\"Stay hydrated!\")"
      ],
      "cell_type": "code",
      "metadata": {
        "colab": {
          "base_uri": "https://localhost:8080/"
        },
        "id": "v-2iEUor2mgV",
        "outputId": "3f9a242a-6cff-4b25-9e17-2cc7e5c377e0"
      },
      "execution_count": 20,
      "outputs": [
        {
          "output_type": "stream",
          "name": "stdout",
          "text": [
            "Enter temperature (°F): 55\n",
            "Wear a jacket.\n"
          ]
        }
      ]
    },
    {
      "cell_type": "markdown",
      "source": [
        "DISCOUNT CALCULATOR"
      ],
      "metadata": {
        "id": "B0SCGwau6Yff"
      }
    },
    {
      "source": [
        "amount = float(input(\"Enter purchase amount: $\"))\n",
        "if amount >= 100:\n",
        "    discount = 0.10\n",
        "elif amount >= 50:\n",
        "    discount = 0.05\n",
        "else:\n",
        "    discount = 0\n",
        "print(f\"Final price: ${amount * (1 - discount):.2f}\")"
      ],
      "cell_type": "code",
      "metadata": {
        "colab": {
          "base_uri": "https://localhost:8080/"
        },
        "id": "uT1Q_6Io64AL",
        "outputId": "0cfa276f-72c0-4c0b-c83e-23aaa00244db"
      },
      "execution_count": 33,
      "outputs": [
        {
          "output_type": "stream",
          "name": "stdout",
          "text": [
            "Enter purchase amount: $53.99\n",
            "Final price: $51.29\n"
          ]
        }
      ]
    },
    {
      "cell_type": "markdown",
      "source": [
        "SIMPLE CALCULATOR"
      ],
      "metadata": {
        "id": "ps_leBJk7sLR"
      }
    },
    {
      "source": [
        "num1 = float(input(\"Enter first number: \"))\n",
        "num2 = float(input(\"Enter second number: \"))\n",
        "op = input(\"Enter operator (+, -, *, /): \")\n",
        "\n",
        "if op == \"+\":\n",
        "    result = num1 + num2\n",
        "elif op == \"-\":\n",
        "    result = num1 - num2\n",
        "elif op == \"*\":\n",
        "    result = num1 * num2\n",
        "elif op == \"/\":\n",
        "    if num2 == 0:\n",
        "        result = \"Error: Division by zero!\"\n",
        "    else:\n",
        "        result = num1 / num2\n",
        "else:\n",
        "    result = \"Invalid operator!\"\n",
        "\n",
        "print(result)"
      ],
      "cell_type": "code",
      "metadata": {
        "colab": {
          "base_uri": "https://localhost:8080/"
        },
        "id": "ghzT5B1C8BtD",
        "outputId": "398ca023-cf3a-4b91-d546-042768bde03e"
      },
      "execution_count": 35,
      "outputs": [
        {
          "output_type": "stream",
          "name": "stdout",
          "text": [
            "Enter first number: 69\n",
            "Enter second number: 32\n",
            "Enter operator (+, -, *, /): +\n",
            "101.0\n"
          ]
        }
      ]
    }
  ]
}