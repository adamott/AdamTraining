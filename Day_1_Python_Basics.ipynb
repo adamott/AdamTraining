{
  "nbformat": 4,
  "nbformat_minor": 0,
  "metadata": {
    "colab": {
      "provenance": [],
      "authorship_tag": "ABX9TyPh0BLbrnTZQ+FBMj8c3RCs",
      "include_colab_link": true
    },
    "kernelspec": {
      "name": "python3",
      "display_name": "Python 3"
    },
    "language_info": {
      "name": "python"
    }
  },
  "cells": [
    {
      "cell_type": "markdown",
      "metadata": {
        "id": "view-in-github",
        "colab_type": "text"
      },
      "source": [
        "<a href=\"https://colab.research.google.com/github/adamott/AdamTraining/blob/main/Day_1_Python_Basics.ipynb\" target=\"_parent\"><img src=\"https://colab.research.google.com/assets/colab-badge.svg\" alt=\"Open In Colab\"/></a>"
      ]
    },
    {
      "cell_type": "markdown",
      "source": [
        "Day 1 Summary:\n",
        "- Setup Google Colab\n",
        "- Wrote and ran first Python code\n",
        "- Learned about variables, print, and input()\n",
        "- Watched Python basics video"
      ],
      "metadata": {
        "id": "quPL7ctQtsE9"
      }
    },
    {
      "cell_type": "code",
      "source": [
        "# Day 1: Variables and Print Statements\n",
        "\n",
        "# Define some variables\n",
        "name = \"Adam\"\n",
        "cups = 2\n",
        "\n",
        "# Print a personalized message\n",
        "print(f\"Hello, {name}!\")\n",
        "print(f\"You’ve had {cups} cups of coffee today.\")"
      ],
      "metadata": {
        "colab": {
          "base_uri": "https://localhost:8080/"
        },
        "id": "GRo8GYTYk5Ws",
        "outputId": "5bde4bd5-b45f-401d-bae1-079a74079199"
      },
      "execution_count": 1,
      "outputs": [
        {
          "output_type": "stream",
          "name": "stdout",
          "text": [
            "Hello, Adam!\n",
            "You’ve had 2 cups of coffee today.\n"
          ]
        }
      ]
    },
    {
      "cell_type": "code",
      "source": [
        "# Ask the user for their name and coffee count\n",
        "name = input(\"Enter your name: \")\n",
        "cups = input(\"How many cups of coffee have you had today? \")\n",
        "\n",
        "# Show the result\n",
        "print(f\"Hi {name}! You entered {cups}.\")\n"
      ],
      "metadata": {
        "colab": {
          "base_uri": "https://localhost:8080/"
        },
        "id": "ONZ9R5bilJ9B",
        "outputId": "0cce2529-b421-4a85-edb0-2581be5fe4c5"
      },
      "execution_count": 2,
      "outputs": [
        {
          "output_type": "stream",
          "name": "stdout",
          "text": [
            "Enter your name: Adam Ott Hill\n",
            "How many cups of coffee have you had today? 4\n",
            "Hi Adam Ott Hill! You entered 4.\n"
          ]
        }
      ]
    },
    {
      "cell_type": "code",
      "source": [
        "# Ask the user for their name and coffee count\n",
        "name = input(\"Enter your name: \")\n",
        "cups = input(\"How many cups of coffee have you had today? \")\n",
        "\n",
        "# Show the result\n",
        "print(f\"Hi {name}! You entered {cups}.\")\n",
        "# Input and convert cups to an integer\n",
        "cups = int(input(\"How many cups of coffeee have you had today? \"))\n",
        "print(f\"Wow {name}, {cups} cups is a lot!\")"
      ],
      "metadata": {
        "colab": {
          "base_uri": "https://localhost:8080/"
        },
        "id": "A1jXjFP5leok",
        "outputId": "dc628bc3-f8f9-4262-8473-acbbfd5ad09f"
      },
      "execution_count": 7,
      "outputs": [
        {
          "output_type": "stream",
          "name": "stdout",
          "text": [
            "Enter your name: Mike\n",
            "How many cups of coffee have you had today? 7\n",
            "Hi Mike! You entered 7.\n",
            "How many cups of coffeee have you had today? 7\n",
            "Wow Mike, 7 cups is a lot!\n"
          ]
        }
      ]
    },
    {
      "cell_type": "code",
      "source": [
        "# Input and convert cups to an integer\n",
        "cups = int(input(\"How many cups of coffee have you had today? \"))\n",
        "print(f\"Wow {cups} cups is a lot!\")"
      ],
      "metadata": {
        "colab": {
          "base_uri": "https://localhost:8080/",
          "height": 106
        },
        "id": "5HW3ju9NlzCV",
        "outputId": "527e62c1-29da-4bbb-ff40-7cafb3f56aa9"
      },
      "execution_count": 4,
      "outputs": [
        {
          "output_type": "error",
          "ename": "SyntaxError",
          "evalue": "invalid syntax (<ipython-input-4-12d8d32bf494>, line 3)",
          "traceback": [
            "\u001b[0;36m  File \u001b[0;32m\"<ipython-input-4-12d8d32bf494>\"\u001b[0;36m, line \u001b[0;32m3\u001b[0m\n\u001b[0;31m    print(f\"Wow {name}, {cups} cups is a lot!\")q\u001b[0m\n\u001b[0m                                               ^\u001b[0m\n\u001b[0;31mSyntaxError\u001b[0m\u001b[0;31m:\u001b[0m invalid syntax\n"
          ]
        }
      ]
    }
  ]
}