{
  "nbformat": 4,
  "nbformat_minor": 0,
  "metadata": {
    "colab": {
      "provenance": [],
      "authorship_tag": "ABX9TyP043RT02DDZL3+qbjkE80B",
      "include_colab_link": true
    },
    "kernelspec": {
      "name": "python3",
      "display_name": "Python 3"
    },
    "language_info": {
      "name": "python"
    }
  },
  "cells": [
    {
      "cell_type": "markdown",
      "metadata": {
        "id": "view-in-github",
        "colab_type": "text"
      },
      "source": [
        "<a href=\"https://colab.research.google.com/github/adamott/AdamTraining/blob/main/adamtraining.ipynb\" target=\"_parent\"><img src=\"https://colab.research.google.com/assets/colab-badge.svg\" alt=\"Open In Colab\"/></a>"
      ]
    },
    {
      "cell_type": "code",
      "execution_count": null,
      "metadata": {
        "id": "yHEPgIKzgcxb",
        "outputId": "58553165-0b93-4b48-98ed-143043a5d320",
        "colab": {
          "base_uri": "https://localhost:8080/"
        }
      },
      "outputs": [
        {
          "output_type": "stream",
          "name": "stdout",
          "text": [
            "\u001b[33mhint: Using 'master' as the name for the initial branch. This default branch name\u001b[m\n",
            "\u001b[33mhint: is subject to change. To configure the initial branch name to use in all\u001b[m\n",
            "\u001b[33mhint: of your new repositories, which will suppress this warning, call:\u001b[m\n",
            "\u001b[33mhint: \u001b[m\n",
            "\u001b[33mhint: \tgit config --global init.defaultBranch <name>\u001b[m\n",
            "\u001b[33mhint: \u001b[m\n",
            "\u001b[33mhint: Names commonly chosen instead of 'master' are 'main', 'trunk' and\u001b[m\n",
            "\u001b[33mhint: 'development'. The just-created branch can be renamed via this command:\u001b[m\n",
            "\u001b[33mhint: \u001b[m\n",
            "\u001b[33mhint: \tgit branch -m <name>\u001b[m\n",
            "Initialized empty Git repository in /content/.git/\n"
          ]
        }
      ],
      "source": [
        "!git init"
      ]
    },
    {
      "cell_type": "markdown",
      "source": [
        "## Day 2: My AI Tool Cheat Sheet\n"
      ],
      "metadata": {
        "id": "BJSEf-jiX8Tw"
      }
    },
    {
      "cell_type": "code",
      "source": [
        "# This is not Python code and thus does not need correction.\n",
        "# It appears to be a markdown list.\n",
        "- **ChatGPT (chat.openai.com)**: Great for writing, reasoning, and Python.\n",
        "- **Claude (claude.ai)**: Best for very long documents and thoughtful answers.\n",
        "- **Gemini (gemini.google.com)**: Google-powered insights, reads images & PDFs.\n",
        "- **Perplexity (perplexity.ai)**: Research-focused search assistant.\n",
        "- **Poe.com**: Access to Claude, GPT-4, Mistral in one place.\n",
        "- **Hugging Face Spaces**: Playground for community-built AI tools.\n",
        "- **Perplexity (perplexity.ai)**: Research-focused search assistant.\n",
        "- **Poe.com**: Access to Claude, GPT-4, Mistral in one place.\n",
        "- **Hugging Face Spaces**: Playground for community-built AI tools.\n",
        "- **Perplexity (perplexity.ai)**: Research-focused search assistant.\n",
        "- **Poe.com**: Access to Claude, GPT-4, Mistral in one place.\n",
        "- **Hugging Face Spaces**: Playground for community-built AI tools.\n",
        "- **Perplexity (perplexity.ai)**: Research-focused search assistant.\n",
        "- **Poe.com**: Access to Claude, GPT-4, Mistral in one place.\n",
        "- **Hugging Face Spaces**: Playground for community-built AI tools."
      ],
      "metadata": {
        "colab": {
          "base_uri": "https://localhost:8080/",
          "height": 106
        },
        "id": "JP2bLuOYYAQV",
        "outputId": "56720850-7e24-4a9c-eec0-070e1ab535db"
      },
      "execution_count": 16,
      "outputs": [
        {
          "output_type": "error",
          "ename": "SyntaxError",
          "evalue": "invalid syntax (<ipython-input-16-89128226c0bc>, line 3)",
          "traceback": [
            "\u001b[0;36m  File \u001b[0;32m\"<ipython-input-16-89128226c0bc>\"\u001b[0;36m, line \u001b[0;32m3\u001b[0m\n\u001b[0;31m    - **ChatGPT (chat.openai.com)**: Great for writing, reasoning, and Python.\u001b[0m\n\u001b[0m      ^\u001b[0m\n\u001b[0;31mSyntaxError\u001b[0m\u001b[0;31m:\u001b[0m invalid syntax\n"
          ]
        }
      ]
    },
    {
      "cell_type": "code",
      "source": [
        "%cd /content/AdamTraining\n",
        "!git add adamtraining.ipynb\n",
        "!git commit -m \"Day 2 - Tool comparison and reflection\"\n",
        "!git push origin main"
      ],
      "metadata": {
        "colab": {
          "base_uri": "https://localhost:8080/"
        },
        "id": "ynsjnvSvbQ01",
        "outputId": "74dbb98f-a025-4199-b820-eb3d3daec69f"
      },
      "execution_count": 14,
      "outputs": [
        {
          "output_type": "stream",
          "name": "stdout",
          "text": [
            "/content/AdamTraining\n",
            "On branch main\n",
            "Your branch is up to date with 'origin/main'.\n",
            "\n",
            "nothing to commit, working tree clean\n",
            "fatal: could not read Username for 'https://github.com': No such device or address\n"
          ]
        }
      ]
    },
    {
      "cell_type": "code",
      "source": [
        "- **Rewrite something in a new voice:**\n",
        "  \"Rewrite this in the voice of [X]: [text]\"\n",
        "\n",
        "  - **Extract or summarize:**\n",
        "    \"Summarize the following in 3 bullet points: [text]\"\n",
        "\n",
        "    - **Turn bullet points into paragraphs:**\n",
        "      \"Turn these points into a professional intro paragraph: [list]\"\n",
        "\n",
        "      - **Use step-by-step reasoning:**\n",
        "        \"Think step-by-step. What’s the best way to [task]?\""
      ],
      "metadata": {
        "id": "V0WUoSe-dwbQ",
        "outputId": "32e8ee1a-6100-4ee8-ed00-676fd345e6e4",
        "colab": {
          "base_uri": "https://localhost:8080/",
          "height": 106
        }
      },
      "execution_count": 15,
      "outputs": [
        {
          "output_type": "error",
          "ename": "SyntaxError",
          "evalue": "invalid syntax (<ipython-input-15-06d6436b1418>, line 1)",
          "traceback": [
            "\u001b[0;36m  File \u001b[0;32m\"<ipython-input-15-06d6436b1418>\"\u001b[0;36m, line \u001b[0;32m1\u001b[0m\n\u001b[0;31m    - **Rewrite something in a new voice:**\u001b[0m\n\u001b[0m      ^\u001b[0m\n\u001b[0;31mSyntaxError\u001b[0m\u001b[0;31m:\u001b[0m invalid syntax\n"
          ]
        }
      ]
    },
    {
      "cell_type": "code",
      "source": [
        "# 1. Configure Git with your identity (just once per notebook session):\n",
        "!git config --global user.email \"your-email@example.com\"\n",
        "!git config --global user.name \"Your Name\"\n",
        "\n",
        "# 2. Clone your repo into the Colab VM:\n",
        "!git clone https://github.com/your-username/ai-bootcamp.git\n",
        "\n",
        "# 3. Copy or move your notebook into that folder:\n",
        "!cp /content/Day0-setup.ipynb /content/ai-bootcamp/\n",
        "\n",
        "# 4. Push it back up:\n",
        "%cd /content/ai-bootcamp\n",
        "!git add Day0-setup.ipynb\n",
        "!git commit -m \"Add Day 0 setup notebook\"\n",
        "!git push origin main"
      ],
      "metadata": {
        "colab": {
          "base_uri": "https://localhost:8080/"
        },
        "id": "6v0Iu3CPlRv-",
        "outputId": "9c646eb3-d3d2-4dab-825b-4fac3846119c"
      },
      "execution_count": null,
      "outputs": [
        {
          "output_type": "stream",
          "name": "stdout",
          "text": [
            "Cloning into 'ai-bootcamp'...\n",
            "fatal: could not read Username for 'https://github.com': No such device or address\n",
            "cp: cannot stat '/content/Day0-setup.ipynb': No such file or directory\n",
            "[Errno 2] No such file or directory: '/content/ai-bootcamp'\n",
            "/content\n",
            "fatal: not a git repository (or any of the parent directories): .git\n",
            "fatal: not a git repository (or any of the parent directories): .git\n",
            "fatal: not a git repository (or any of the parent directories): .git\n"
          ]
        }
      ]
    },
    {
      "cell_type": "code",
      "source": [
        "# Prompt Engineering Day 1 Notes\n",
        "# Prompt Engineering Day 1 Notes\n",
        "\n",
        "## Prompt Structure Formula:\n",
        "**[Role] + [Task] + [Context or Constraints]**\n",
        "\n",
        "---\n",
        "\n",
        "## Prompt Transformations\n",
        "\n",
        "### 1. Original:\n",
        "\"Explain how a bill becomes a law.\"\n",
        "\n",
        "**Improved:**\n",
        "\"You are a high school civics teacher. Explain how a bill becomes a law in the U.S. using simple language and bullet points for 10th-grade students.\"\n",
        "\n",
        "---\n",
        "\n",
        "### 2. Original:\n",
        "\"Write me a product description.\"\n",
        "\n",
        "**Improved:**\n",
        "\"You are a brand copywriter for a luxury skincare company. Write a 2-paragraph product description for a new organic hibiscus facial serum, emphasizing Hawaiian-grown ingredients and eco-luxury.\"\n",
        "\n",
        "---\n",
        "\n",
        "## Bonus: Weird or Fun Prompt\n",
        "\"You are a time-traveling chef from ancient Egypt visiting a modern kitchen. Write a humorous diary entry describing your first attempt at using a microwave.\"\n",
        "\n",
        "---\n",
        "\n",
        "## Prompt Transformations\n",
        "\n",
        "### 1. Original:\n",
        "\"Explain how a bill becomes a law.\"\n",
        "\n",
        "**Improved:**\n",
        "\"You are a high school civics teacher. Explain how a bill becomes a law in the U.S. using simple language and bullet points for 10th-grade students.\"\n",
        "\n",
        "---\n",
        "\n",
        "### 2. Original:\n",
        "\"Write me a product description.\"\n",
        "\n",
        "**Improved:**\n",
        "\"You are a brand copywriter for a luxury skincare company. Write a 2-paragraph product description for a new organic hibiscus facial serum, emphasizing Hawaiian-grown ingredients and eco-luxury.\"\n",
        "\n",
        "---\n",
        "\n",
        "## Bonus: Weird or Fun Prompt\n",
        "\"You are a time-traveling chef from ancient Egypt visiting a modern kitchen. Write a humorous diary entry describing your first attempt at using a microwave.\"\n",
        "\n",
        "---"
      ],
      "metadata": {
        "colab": {
          "base_uri": "https://localhost:8080/",
          "height": 106
        },
        "id": "yjE7r4ByeKXG",
        "outputId": "e92dd05d-d9b1-4b63-ee3c-0be65b7b3acf"
      },
      "execution_count": null,
      "outputs": [
        {
          "output_type": "error",
          "ename": "SyntaxError",
          "evalue": "invalid syntax (<ipython-input-2-a51d80877e84>, line 5)",
          "traceback": [
            "\u001b[0;36m  File \u001b[0;32m\"<ipython-input-2-a51d80877e84>\"\u001b[0;36m, line \u001b[0;32m5\u001b[0m\n\u001b[0;31m    **[Role] + [Task] + [Context or Constraints]**\u001b[0m\n\u001b[0m    ^\u001b[0m\n\u001b[0;31mSyntaxError\u001b[0m\u001b[0;31m:\u001b[0m invalid syntax\n"
          ]
        }
      ]
    },
    {
      "cell_type": "code",
      "source": [
        "# Move into your Git repo folder\n",
        "%cd /content/AdamTraining\n",
        "\n",
        "# Add your updated notebook\n",
        "!git add adamtraining.ipynb\n",
        "\n",
        "# Commit the changes with a message\n",
        "!git commit -m \"Day 1 - Prompt Engineering notes\"\n",
        "\n",
        "# Push to GitHub\n",
        "!git push origin main"
      ],
      "metadata": {
        "colab": {
          "base_uri": "https://localhost:8080/"
        },
        "id": "gYrhdx-8e1KZ",
        "outputId": "b39157d5-f1bc-47d7-de1a-86a2fd76c074"
      },
      "execution_count": null,
      "outputs": [
        {
          "output_type": "stream",
          "name": "stdout",
          "text": [
            "[Errno 2] No such file or directory: '/content/AdamTraining'\n",
            "/content\n",
            "fatal: not a git repository (or any of the parent directories): .git\n",
            "fatal: not a git repository (or any of the parent directories): .git\n",
            "fatal: not a git repository (or any of the parent directories): .git\n"
          ]
        }
      ]
    },
    {
      "cell_type": "code",
      "source": [
        "# 1. Configure Git with your identity\n",
        "!git config --global user.email \"adamott@gmail.com\"\n",
        "!git config --global user.name \"adamott\"\n",
        "\n",
        "# 2. Clone your GitHub repo into Colab\n",
        "!git clone https://github.com/adamott/AdamTraining.git\n",
        "\n",
        "# 3. Copy your notebook into the repo folder\n",
        "!cp /content/adamtraining.ipynb /content/AdamTraining/\n",
        "\n",
        "# 4. Commit & push\n",
        "%cd /content/AdamTraining\n",
        "!git add adamtraining.ipynb\n",
        "!git commit -m \"Add Day 0 setup notebook\"\n",
        "!git push origin main"
      ],
      "metadata": {
        "colab": {
          "base_uri": "https://localhost:8080/"
        },
        "id": "niz-aEUupTeI",
        "outputId": "5dc1558b-6d34-4e7d-83c0-b87dc8d99b08"
      },
      "execution_count": null,
      "outputs": [
        {
          "output_type": "stream",
          "name": "stdout",
          "text": [
            "Cloning into 'AdamTraining'...\n",
            "fatal: could not read Username for 'https://github.com': No such device or address\n",
            "cp: cannot stat '/content/adamtraining.ipynb': No such file or directory\n",
            "[Errno 2] No such file or directory: '/content/AdamTraining'\n",
            "/content\n",
            "fatal: not a git repository (or any of the parent directories): .git\n",
            "fatal: not a git repository (or any of the parent directories): .git\n",
            "fatal: not a git repository (or any of the parent directories): .git\n"
          ]
        }
      ]
    },
    {
      "cell_type": "code",
      "source": [
        "# List everything in the top‐level directory\n",
        "!ls /content\n",
        "\n",
        "# If there’s an “AdamTraining” folder from the clone, list its contents too\n",
        "!ls /content/AdamTraining"
      ],
      "metadata": {
        "colab": {
          "base_uri": "https://localhost:8080/"
        },
        "id": "UmLHIcr6qZ4B",
        "outputId": "7fda731f-a780-4f18-db4e-2072fd26641f"
      },
      "execution_count": null,
      "outputs": [
        {
          "output_type": "stream",
          "name": "stdout",
          "text": [
            "sample_data\n",
            "ls: cannot access '/content/AdamTraining': No such file or directory\n"
          ]
        }
      ]
    },
    {
      "cell_type": "code",
      "source": [],
      "metadata": {
        "id": "xio6H_sXq-BF"
      },
      "execution_count": null,
      "outputs": []
    },
    {
      "cell_type": "code",
      "source": [
        "# 1. List everything in the top‑level directory\n",
        "!ls /content\n",
        "\n",
        "# 2. List contents of the cloned repo folder\n",
        "!ls /content/AdamTraining"
      ],
      "metadata": {
        "colab": {
          "base_uri": "https://localhost:8080/"
        },
        "id": "IA_Wt6A7rAFO",
        "outputId": "6598667d-f737-4db1-bec5-722d280254c4"
      },
      "execution_count": null,
      "outputs": [
        {
          "output_type": "stream",
          "name": "stdout",
          "text": [
            "sample_data\n",
            "ls: cannot access '/content/AdamTraining': No such file or directory\n"
          ]
        }
      ]
    },
    {
      "cell_type": "code",
      "source": [
        "!git clone https://github.com/adamott/AdamTraining.Git"
      ],
      "metadata": {
        "colab": {
          "base_uri": "https://localhost:8080/"
        },
        "id": "N_nFBPd1rrNT",
        "outputId": "1ecdfc7a-97cb-4096-d8c0-ff869364e184"
      },
      "execution_count": null,
      "outputs": [
        {
          "output_type": "stream",
          "name": "stdout",
          "text": [
            "Cloning into 'AdamTraining.Git'...\n",
            "fatal: could not read Username for 'https://github.com': No such device or address\n"
          ]
        }
      ]
    }
  ]
}