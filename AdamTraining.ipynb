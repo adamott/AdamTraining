{
  "nbformat": 4,
  "nbformat_minor": 0,
  "metadata": {
    "colab": {
      "provenance": [],
      "authorship_tag": "ABX9TyNMN6PuwFgT/Ehq/Mrq31ZU",
      "include_colab_link": true
    },
    "kernelspec": {
      "name": "python3",
      "display_name": "Python 3"
    },
    "language_info": {
      "name": "python"
    }
  },
  "cells": [
    {
      "cell_type": "markdown",
      "metadata": {
        "id": "view-in-github",
        "colab_type": "text"
      },
      "source": [
        "<a href=\"https://colab.research.google.com/github/adamott/AdamTraining/blob/main/AdamTraining.ipynb\" target=\"_parent\"><img src=\"https://colab.research.google.com/assets/colab-badge.svg\" alt=\"Open In Colab\"/></a>"
      ]
    },
    {
      "cell_type": "code",
      "execution_count": null,
      "metadata": {
        "id": "yHEPgIKzgcxb",
        "outputId": "58553165-0b93-4b48-98ed-143043a5d320",
        "colab": {
          "base_uri": "https://localhost:8080/"
        }
      },
      "outputs": [
        {
          "output_type": "stream",
          "name": "stdout",
          "text": [
            "\u001b[33mhint: Using 'master' as the name for the initial branch. This default branch name\u001b[m\n",
            "\u001b[33mhint: is subject to change. To configure the initial branch name to use in all\u001b[m\n",
            "\u001b[33mhint: of your new repositories, which will suppress this warning, call:\u001b[m\n",
            "\u001b[33mhint: \u001b[m\n",
            "\u001b[33mhint: \tgit config --global init.defaultBranch <name>\u001b[m\n",
            "\u001b[33mhint: \u001b[m\n",
            "\u001b[33mhint: Names commonly chosen instead of 'master' are 'main', 'trunk' and\u001b[m\n",
            "\u001b[33mhint: 'development'. The just-created branch can be renamed via this command:\u001b[m\n",
            "\u001b[33mhint: \u001b[m\n",
            "\u001b[33mhint: \tgit branch -m <name>\u001b[m\n",
            "Initialized empty Git repository in /content/.git/\n"
          ]
        }
      ],
      "source": [
        "!git init"
      ]
    },
    {
      "cell_type": "code",
      "source": [
        "# 1. Configure Git with your identity (just once per notebook session):\n",
        "!git config --global user.email \"your-email@example.com\"\n",
        "!git config --global user.name \"Your Name\"\n",
        "\n",
        "# 2. Clone your repo into the Colab VM:\n",
        "!git clone https://github.com/your-username/ai-bootcamp.git\n",
        "\n",
        "# 3. Copy or move your notebook into that folder:\n",
        "!cp /content/Day0-setup.ipynb /content/ai-bootcamp/\n",
        "\n",
        "# 4. Push it back up:\n",
        "%cd /content/ai-bootcamp\n",
        "!git add Day0-setup.ipynb\n",
        "!git commit -m \"Add Day 0 setup notebook\"\n",
        "!git push origin main"
      ],
      "metadata": {
        "colab": {
          "base_uri": "https://localhost:8080/"
        },
        "id": "6v0Iu3CPlRv-",
        "outputId": "9c646eb3-d3d2-4dab-825b-4fac3846119c"
      },
      "execution_count": null,
      "outputs": [
        {
          "output_type": "stream",
          "name": "stdout",
          "text": [
            "Cloning into 'ai-bootcamp'...\n",
            "fatal: could not read Username for 'https://github.com': No such device or address\n",
            "cp: cannot stat '/content/Day0-setup.ipynb': No such file or directory\n",
            "[Errno 2] No such file or directory: '/content/ai-bootcamp'\n",
            "/content\n",
            "fatal: not a git repository (or any of the parent directories): .git\n",
            "fatal: not a git repository (or any of the parent directories): .git\n",
            "fatal: not a git repository (or any of the parent directories): .git\n"
          ]
        }
      ]
    },
    {
      "cell_type": "code",
      "source": [
        "# 1. Configure Git with your identity\n",
        "!git config --global user.email \"adamott@gmail.com\"\n",
        "!git config --global user.name \"adamott\"\n",
        "\n",
        "# 2. Clone your GitHub repo into Colab\n",
        "!git clone https://github.com/adamott/AdamTraining.git\n",
        "\n",
        "# 3. Copy your notebook into the repo folder\n",
        "!cp /content/adamtraining.ipynb /content/AdamTraining/\n",
        "\n",
        "# 4. Commit & push\n",
        "%cd /content/AdamTraining\n",
        "!git add adamtraining.ipynb\n",
        "!git commit -m \"Add Day 0 setup notebook\"\n",
        "!git push origin main"
      ],
      "metadata": {
        "colab": {
          "base_uri": "https://localhost:8080/"
        },
        "id": "niz-aEUupTeI",
        "outputId": "5dc1558b-6d34-4e7d-83c0-b87dc8d99b08"
      },
      "execution_count": null,
      "outputs": [
        {
          "output_type": "stream",
          "name": "stdout",
          "text": [
            "Cloning into 'AdamTraining'...\n",
            "fatal: could not read Username for 'https://github.com': No such device or address\n",
            "cp: cannot stat '/content/adamtraining.ipynb': No such file or directory\n",
            "[Errno 2] No such file or directory: '/content/AdamTraining'\n",
            "/content\n",
            "fatal: not a git repository (or any of the parent directories): .git\n",
            "fatal: not a git repository (or any of the parent directories): .git\n",
            "fatal: not a git repository (or any of the parent directories): .git\n"
          ]
        }
      ]
    },
    {
      "cell_type": "code",
      "source": [
        "# List everything in the top‐level directory\n",
        "!ls /content\n",
        "\n",
        "# If there’s an “AdamTraining” folder from the clone, list its contents too\n",
        "!ls /content/AdamTraining"
      ],
      "metadata": {
        "colab": {
          "base_uri": "https://localhost:8080/"
        },
        "id": "UmLHIcr6qZ4B",
        "outputId": "7fda731f-a780-4f18-db4e-2072fd26641f"
      },
      "execution_count": null,
      "outputs": [
        {
          "output_type": "stream",
          "name": "stdout",
          "text": [
            "sample_data\n",
            "ls: cannot access '/content/AdamTraining': No such file or directory\n"
          ]
        }
      ]
    },
    {
      "cell_type": "code",
      "source": [],
      "metadata": {
        "id": "xio6H_sXq-BF"
      },
      "execution_count": null,
      "outputs": []
    },
    {
      "cell_type": "code",
      "source": [
        "# 1. List everything in the top‑level directory\n",
        "!ls /content\n",
        "\n",
        "# 2. List contents of the cloned repo folder\n",
        "!ls /content/AdamTraining"
      ],
      "metadata": {
        "colab": {
          "base_uri": "https://localhost:8080/"
        },
        "id": "IA_Wt6A7rAFO",
        "outputId": "6598667d-f737-4db1-bec5-722d280254c4"
      },
      "execution_count": null,
      "outputs": [
        {
          "output_type": "stream",
          "name": "stdout",
          "text": [
            "sample_data\n",
            "ls: cannot access '/content/AdamTraining': No such file or directory\n"
          ]
        }
      ]
    },
    {
      "cell_type": "code",
      "source": [
        "!git clone https://github.com/adamott/AdamTraining.Git"
      ],
      "metadata": {
        "colab": {
          "base_uri": "https://localhost:8080/"
        },
        "id": "N_nFBPd1rrNT",
        "outputId": "1ecdfc7a-97cb-4096-d8c0-ff869364e184"
      },
      "execution_count": null,
      "outputs": [
        {
          "output_type": "stream",
          "name": "stdout",
          "text": [
            "Cloning into 'AdamTraining.Git'...\n",
            "fatal: could not read Username for 'https://github.com': No such device or address\n"
          ]
        }
      ]
    }
  ]
}