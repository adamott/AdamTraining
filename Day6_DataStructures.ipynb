{
  "nbformat": 4,
  "nbformat_minor": 0,
  "metadata": {
    "colab": {
      "provenance": [],
      "authorship_tag": "ABX9TyOWLGFEfPJRndHa3d3hdUE5",
      "include_colab_link": true
    },
    "kernelspec": {
      "name": "python3",
      "display_name": "Python 3"
    },
    "language_info": {
      "name": "python"
    }
  },
  "cells": [
    {
      "cell_type": "markdown",
      "metadata": {
        "id": "view-in-github",
        "colab_type": "text"
      },
      "source": [
        "<a href=\"https://colab.research.google.com/github/adamott/AdamTraining/blob/main/Day6_DataStructures.ipynb\" target=\"_parent\"><img src=\"https://colab.research.google.com/assets/colab-badge.svg\" alt=\"Open In Colab\"/></a>"
      ]
    },
    {
      "cell_type": "code",
      "execution_count": 1,
      "metadata": {
        "colab": {
          "base_uri": "https://localhost:8080/"
        },
        "id": "pffsorZ1fEj1",
        "outputId": "b37a8546-eaea-4d6b-ca03-230b39369de1"
      },
      "outputs": [
        {
          "output_type": "stream",
          "name": "stdout",
          "text": [
            "soursop\n"
          ]
        }
      ],
      "source": [
        "# Lists\n",
        "fruits = [\"mango\", \"banana\", \"soursop\"]\n",
        "fruits.append(\"dragon fruit\")\n",
        "print(fruits[2])  # soursop"
      ]
    },
    {
      "source": [
        "contact = {\n",
        "    \"name\": \"Adam\",\n",
        "        \"email\": \"adam@hawaiianhills.org\",\n",
        "            \"location\": \"Hawaii\"\n",
        "            }"
      ],
      "cell_type": "code",
      "metadata": {
        "id": "TDKvSSDUfmyf"
      },
      "execution_count": 3,
      "outputs": []
    },
    {
      "source": [
        "print(contact[\"email\"])"
      ],
      "cell_type": "code",
      "metadata": {
        "colab": {
          "base_uri": "https://localhost:8080/"
        },
        "id": "VBz4bJpefosQ",
        "outputId": "c3b7c582-8cb9-484d-fc72-c6d6fc5a86ad"
      },
      "execution_count": 5,
      "outputs": [
        {
          "output_type": "stream",
          "name": "stdout",
          "text": [
            "adam@hawaiianhills.org\n"
          ]
        }
      ]
    },
    {
      "source": [
        "contacts = [\n",
        "    {\"name\": \"Adam\", \"email\": \"adam@hawaiianhills.org\"},\n",
        "        {\"name\": \"Michael\", \"email\": \"michael@hawaiianhills.org\"}\n",
        "        ]"
      ],
      "cell_type": "code",
      "metadata": {
        "id": "ZyeInpvKgAYM"
      },
      "execution_count": 7,
      "outputs": []
    },
    {
      "source": [
        "for c in contacts:\n",
        "    print(c[\"email\"])"
      ],
      "cell_type": "code",
      "metadata": {
        "colab": {
          "base_uri": "https://localhost:8080/"
        },
        "id": "ImzFSmingCCN",
        "outputId": "ffa249f0-4c0e-4cf5-f140-495c0e2171c2"
      },
      "execution_count": 9,
      "outputs": [
        {
          "output_type": "stream",
          "name": "stdout",
          "text": [
            "adam@hawaiianhills.org\n",
            "michael@hawaiianhills.org\n"
          ]
        }
      ]
    },
    {
      "cell_type": "code",
      "source": [
        "import json\n",
        "\n",
        "# Dictionary to JSON string\n",
        "data = {\"fruit\": \"banana\", \"quantity\": 3}\n",
        "json_string = json.dumps(data)\n",
        "print(json_string)\n",
        "\n",
        "# JSON string to dictionary\n",
        "parsed = json.loads(json_string)\n",
        "print(parsed[\"fruit\"])"
      ],
      "metadata": {
        "colab": {
          "base_uri": "https://localhost:8080/"
        },
        "id": "ZHglh1qXgaiL",
        "outputId": "6c1b247c-8f99-40ab-89a7-5b5189314992"
      },
      "execution_count": 10,
      "outputs": [
        {
          "output_type": "stream",
          "name": "stdout",
          "text": [
            "{\"fruit\": \"banana\", \"quantity\": 3}\n",
            "banana\n"
          ]
        }
      ]
    },
    {
      "source": [
        "import json"
      ],
      "cell_type": "code",
      "metadata": {
        "id": "SzV5BLN4gutY"
      },
      "execution_count": 20,
      "outputs": []
    },
    {
      "source": [
        "def save_contact(name, phone, email):\n",
        "    try:\n",
        "        with open(\"contacts.json\", \"r\") as f:\n",
        "            contacts = json.load(f)\n",
        "    except FileNotFoundError:\n",
        "        contacts = []\n",
        "\n",
        "    contacts.append({\"name\": name, \"phone\": phone, \"email\": email})\n",
        "\n",
        "    with open(\"contacts.json\", \"w\") as f:\n",
        "        json.dump(contacts, f, indent=2)"
      ],
      "cell_type": "code",
      "metadata": {
        "id": "2CCgs9uDhP3C"
      },
      "execution_count": 19,
      "outputs": []
    },
    {
      "source": [
        "def view_contacts():\n",
        "    with open(\"contacts.json\", \"r\") as f:\n",
        "        contacts = json.load(f) # Added json.load(f) to read contacts\n",
        "    return contacts # Added return to make function usable"
      ],
      "cell_type": "code",
      "metadata": {
        "id": "r9Cndp7ahR_j"
      },
      "execution_count": 18,
      "outputs": []
    },
    {
      "cell_type": "code",
      "source": [
        "save_contact(\"Adam\", \"808-123-4567\", \"adam@hawaiianhills.org\")\n",
        "view_contacts()"
      ],
      "metadata": {
        "id": "AIq0mdQUhoYP",
        "outputId": "5051356a-44be-4d7f-b50e-558d08aec013",
        "colab": {
          "base_uri": "https://localhost:8080/"
        }
      },
      "execution_count": 21,
      "outputs": [
        {
          "output_type": "execute_result",
          "data": {
            "text/plain": [
              "[{'name': 'Adam', 'phone': '808-123-4567', 'email': 'adam@hawaiianhills.org'}]"
            ]
          },
          "metadata": {},
          "execution_count": 21
        }
      ]
    },
    {
      "source": [
        "inventory = []"
      ],
      "cell_type": "code",
      "metadata": {
        "id": "lk69zpbMjMqI"
      },
      "execution_count": 54,
      "outputs": []
    },
    {
      "source": [
        "def add_item(name, price, quantity):\n",
        "    inventory.append({\n",
        "        \"name\": name,\n",
        "        \"price\": price,\n",
        "        \"quantity\": quantity\n",
        "    })\n",
        "    print(f\"Added {name} to inventory\")  # Now 'name' is accessible\n",
        "\n",
        "\n",
        "def total_value():\n",
        "    total = 0\n",
        "    for item in inventory:\n",
        "        total += item[\"price\"] * item[\"quantity\"]\n",
        "    return f\"Total inventory value: ${total:.2f}\"\n",
        "\n",
        "\n",
        "def update_stock(name, new_quantity):\n",
        "    for item in inventory:\n",
        "        if item[\"name\"] == name:\n",
        "            item[\"quantity\"] = new_quantity\n",
        "            print(f\"Updated {name} quantity to {new_quantity}\")\n",
        "            return  # Exit the loop after updating\n",
        "    print(f\"Item '{name}' not found in inventory.\")  # Notify if item not found\n",
        "\n",
        "\n",
        "inventory = []  # Initialize inventory outside function\n",
        "\n",
        "add_item(\"Notebook\", 2.50, 100)\n",
        "add_item(\"Pen\", 1.25, 200)\n",
        "print(total_value())  # (2.50*100) + (1.25*200) = $500.00\n",
        "update_stock(\"Pen\", 150)  # Now calls the defined update_stock function"
      ],
      "cell_type": "code",
      "metadata": {
        "id": "8HE_GIuCmhyj",
        "outputId": "16948159-0866-44e3-c8dc-e8dc836582b3",
        "colab": {
          "base_uri": "https://localhost:8080/"
        }
      },
      "execution_count": 58,
      "outputs": [
        {
          "output_type": "stream",
          "name": "stdout",
          "text": [
            "Added Notebook to inventory\n",
            "Added Pen to inventory\n",
            "Total inventory value: $500.00\n",
            "Updated Pen quantity to 150\n"
          ]
        }
      ]
    },
    {
      "cell_type": "markdown",
      "source": [],
      "metadata": {
        "id": "0Q9h02-OlpVO"
      }
    }
  ]
}