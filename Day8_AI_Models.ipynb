{
  "nbformat": 4,
  "nbformat_minor": 0,
  "metadata": {
    "colab": {
      "provenance": [],
      "authorship_tag": "ABX9TyNQCtp5tgExprTniI2SwYRz",
      "include_colab_link": true
    },
    "kernelspec": {
      "name": "python3",
      "display_name": "Python 3"
    },
    "language_info": {
      "name": "python"
    }
  },
  "cells": [
    {
      "cell_type": "markdown",
      "metadata": {
        "id": "view-in-github",
        "colab_type": "text"
      },
      "source": [
        "<a href=\"https://colab.research.google.com/github/adamott/AdamTraining/blob/main/Day8_AI_Models.ipynb\" target=\"_parent\"><img src=\"https://colab.research.google.com/assets/colab-badge.svg\" alt=\"Open In Colab\"/></a>"
      ]
    },
    {
      "cell_type": "code",
      "execution_count": null,
      "metadata": {
        "colab": {
          "base_uri": "https://localhost:8080/"
        },
        "id": "_YqObXDhqUx1",
        "outputId": "61aa128c-d667-48a5-d066-563ba4672abd"
      },
      "outputs": [
        {
          "output_type": "stream",
          "name": "stderr",
          "text": [
            "Device set to use cpu\n",
            "Truncation was not explicitly activated but `max_length` is provided a specific value, please use `truncation=True` to explicitly truncate examples to max length. Defaulting to 'longest_first' truncation strategy. If you encode pairs of sequences (GLUE-style) with the tokenizer you can select this strategy more precisely by providing a specific strategy to `truncation`.\n",
            "Setting `pad_token_id` to `eos_token_id`:50256 for open-end generation.\n"
          ]
        },
        {
          "output_type": "stream",
          "name": "stdout",
          "text": [
            "My name is Adam and I wouldlike to know more about a possible cure for MS. I have had it for 8 years and I have been on numerous drugs. I am wondering if there are any medications that would be effective in controlling the disease. I have researched this subject for more than a year, and I have tried many of the medications that the doctors recommend. I have tried so many of these medications that I would probably go crazy, if I didn't already feel that I was so confused\n"
          ]
        }
      ],
      "source": [
        "!pip install -q transformers\n",
        "\n",
        "from transformers import pipeline\n",
        "\n",
        "# Load a text generation pipeline using a small, fast, open-access model\n",
        "\n",
        "generator = pipeline(\"text-generation\", model=\"EleutherAI/gpt-neo-1.3B\")\n",
        "# Example prompt\n",
        "prompt = \"My name is Adam and I wouldlike to know more about\"\n",
        "\n",
        "# Generate text\n",
        "output = generator(prompt, max_length=100, num_return_sequences=1)\n",
        "\n",
        "# Display result\n",
        "print(output[0]['generated_text'])"
      ]
    }
  ]
}