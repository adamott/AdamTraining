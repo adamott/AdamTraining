{
  "nbformat": 4,
  "nbformat_minor": 0,
  "metadata": {
    "colab": {
      "provenance": [],
      "authorship_tag": "ABX9TyMiQe3VmmctMAu5TN8v7/+7",
      "include_colab_link": true
    },
    "kernelspec": {
      "name": "python3",
      "display_name": "Python 3"
    },
    "language_info": {
      "name": "python"
    }
  },
  "cells": [
    {
      "cell_type": "markdown",
      "metadata": {
        "id": "view-in-github",
        "colab_type": "text"
      },
      "source": [
        "<a href=\"https://colab.research.google.com/github/adamott/AdamTraining/blob/main/Day7_APIs.ipynb\" target=\"_parent\"><img src=\"https://colab.research.google.com/assets/colab-badge.svg\" alt=\"Open In Colab\"/></a>"
      ]
    },
    {
      "source": [
        "import requests\n",
        "\n",
        "# A free API: Cat facts\n",
        "url = \"https://catfact.ninja/fact\"\n",
        "response = requests.get(url)\n",
        "\n",
        "if response.status_code == 200:\n",
        "    data = response.json()\n",
        "    print(\"Cat Fact:\", data[\"fact\"])\n",
        "else:\n",
        "    print(\"Failed to get data\")"
      ],
      "cell_type": "code",
      "metadata": {
        "colab": {
          "base_uri": "https://localhost:8080/"
        },
        "id": "FJ_brfA1oLGF",
        "outputId": "09d3ae28-f6f0-4fec-9e31-8611827efbef"
      },
      "execution_count": 3,
      "outputs": [
        {
          "output_type": "stream",
          "name": "stdout",
          "text": [
            "Cat Fact: You check your cats pulse on the inside of the back thigh, where the leg joins to the body. Normal for cats: 110-170 beats per minute.\n"
          ]
        }
      ]
    },
    {
      "source": [
        "import requests\n",
        "\n",
        "# Get cat fact\n",
        "url = \"https://catfact.ninja/fact\"\n",
        "response = requests.get(url)\n",
        "\n",
        "if response.status_code == 200:\n",
        "    data = response.json()\n",
        "    print(\"Cat Fact:\", data[\"fact\"])\n",
        "else:\n",
        "    print(\"Failed to get cat fact\")\n",
        "\n",
        "# Get weather for Honolulu\n",
        "city = \"Honolulu\"\n",
        "api_key = \"b1e1a884acd5c485373ce351eaa84370\"\n",
        "url = f\"http://api.openweathermap.org/data/2.5/weather?q={city}&appid={api_key}&units=imperial\"\n",
        "\n",
        "response = requests.get(url)\n",
        "\n",
        "if response.status_code == 200:\n",
        "    data = response.json()\n",
        "    print(f\"Weather in {city}: {data['weather'][0]['description']}, Temp: {data['main']['temp']}°F\")\n",
        "else:\n",
        "    print(\"Failed to get weather data\")"
      ],
      "cell_type": "code",
      "metadata": {
        "colab": {
          "base_uri": "https://localhost:8080/"
        },
        "id": "kXzjNfsHrpYP",
        "outputId": "83836af8-bc28-4aff-865e-dbc2d1511b80"
      },
      "execution_count": 2,
      "outputs": [
        {
          "output_type": "stream",
          "name": "stdout",
          "text": [
            "Cat Fact: A cat’s nose pad is ridged with a unique pattern, just like the fingerprint of a human.\n",
            "Failed to get weather data\n"
          ]
        }
      ]
    },
    {
      "source": [
        "import requests\n",
        "\n",
        "# Get cat fact\n",
        "url = \"https://catfact.ninja/fact\"\n",
        "response = requests.get(url)\n",
        "\n",
        "if response.status_code == 200:\n",
        "    data = response.json()\n",
        "    print(\"Cat Fact:\", data[\"fact\"])\n",
        "else:\n",
        "    print(\"Failed to get cat fact\")\n",
        "\n",
        "# Get weather for Honolulu\n",
        "city = \"Honolulu\"\n",
        "api_key = \"3c4f8587b92d502fb1244f13d5a5b5de\"\n",
        "url = f\"https://api.openweathermap.org/data/2.5/weather?q={city}&appid={api_key}&units=imperial\"\n",
        "\n",
        "response = requests.get(url)\n",
        "\n",
        "if response.status_code == 200:\n",
        "    data = response.json()\n",
        "    print(f\"Weather in {city}: {dmata['weather'][0]['description']}, Temp: {data['main']['temp']}°F\")\n",
        "else:\n",
        "    print(\"Failed to get weather data\")"
      ],
      "cell_type": "code",
      "metadata": {
        "colab": {
          "base_uri": "https://localhost:8080/"
        },
        "id": "OaWBsCQBsBy_",
        "outputId": "46ec5609-9da8-4392-8692-c7215cbda811"
      },
      "execution_count": 4,
      "outputs": [
        {
          "output_type": "stream",
          "name": "stdout",
          "text": [
            "Cat Fact: A cat has the power to sometimes heal themselves by purring. A domestic cat's purr has a frequency of between 25 and 150 Hertz, which happens to be the frequency at which muscles and bones best grow and repair themselves. \n",
            "Failed to get weather data\n"
          ]
        }
      ]
    },
    {
      "source": [
        "import requests\n",
        "\n",
        "# Get cat fact\n",
        "url = \"https://catfact.ninja/fact\"\n",
        "response = requests.get(url)\n",
        "\n",
        "if response.status_code == 200:\n",
        "    data = response.json()\n",
        "    print(\"Cat Fact:\", data[\"fact\"])\n",
        "else:\n",
        "    print(\"Failed to get cat fact\")\n",
        "\n",
        "# Get weather for Honolulu\n",
        "city = \"Honolulu\"\n",
        "api_key = \"3c4f8587b92d502fb1244f13d5a5b5de\"\n",
        "url = f\"https://api.openweathermap.org/data/2.5/weather?q={city}&appid={api_key}&units=imperial\"\n",
        "\n",
        "response = requests.get(url)\n",
        "\n",
        "if response.status_code == 200:\n",
        "    data = response.json()\n",
        "    print(f\"Weather in {city}: {data['weather'][0]['description']}, Temp: {data['main']['temp']}°F\")\n",
        "else:\n",
        "    print(\"Failed to get weather data\")"
      ],
      "cell_type": "code",
      "metadata": {
        "colab": {
          "base_uri": "https://localhost:8080/"
        },
        "id": "3bamkHvTss9w",
        "outputId": "8a975274-b680-4be3-eb0d-3ad9ab76d866"
      },
      "execution_count": 5,
      "outputs": [
        {
          "output_type": "stream",
          "name": "stdout",
          "text": [
            "Cat Fact: A steady diet of dog food may cause blindness in your cat - it lacks taurine.\n",
            "Failed to get weather data\n"
          ]
        }
      ]
    },
    {
      "source": [
        "print(f\"Weather in {city}: {data['weather'][0]['description']}, Temp: {data['main']['temp']}°F\")"
      ],
      "cell_type": "code",
      "metadata": {
        "colab": {
          "base_uri": "https://localhost:8080/",
          "height": 189
        },
        "id": "0ViJFMCks263",
        "outputId": "365e0b0f-bcd1-4ecd-8659-ad3950dc223a"
      },
      "execution_count": 6,
      "outputs": [
        {
          "output_type": "error",
          "ename": "KeyError",
          "evalue": "'weather'",
          "traceback": [
            "\u001b[0;31m---------------------------------------------------------------------------\u001b[0m",
            "\u001b[0;31mKeyError\u001b[0m                                  Traceback (most recent call last)",
            "\u001b[0;32m<ipython-input-6-66641bdfd732>\u001b[0m in \u001b[0;36m<cell line: 0>\u001b[0;34m()\u001b[0m\n\u001b[0;32m----> 1\u001b[0;31m \u001b[0mprint\u001b[0m\u001b[0;34m(\u001b[0m\u001b[0;34mf\"Weather in {city}: {data['weather'][0]['description']}, Temp: {data['main']['temp']}°F\"\u001b[0m\u001b[0;34m)\u001b[0m\u001b[0;34m\u001b[0m\u001b[0;34m\u001b[0m\u001b[0m\n\u001b[0m",
            "\u001b[0;31mKeyError\u001b[0m: 'weather'"
          ]
        }
      ]
    },
    {
      "source": [
        "import requests\n",
        "\n",
        "# Get weather for Honolulu\n",
        "city = \"Honolulu\"\n",
        "api_key = \"3c4f8587b92d502fb1244f13d5a5b5de\"  # Replace with your actual API key if needed\n",
        "url = f\"https://api.openweathermap.org/data/2.5/weather?q={city}&appid={api_key}&units=imperial\"\n",
        "\n",
        "response = requests.get(url)\n",
        "\n",
        "if response.status_code == 200:\n",
        "    data = response.json()\n",
        "    print(f\"Weather in {city}: {data['weather'][0]['description']}, Temp: {data['main']['temp']}°F\")\n",
        "else:\n",
        "    print(\"Failed to get weather data\")"
      ],
      "cell_type": "code",
      "metadata": {
        "colab": {
          "base_uri": "https://localhost:8080/"
        },
        "id": "oJ9ar9LqtGJH",
        "outputId": "b1742be6-c00e-4491-e664-14bc4b4ab878"
      },
      "execution_count": 7,
      "outputs": [
        {
          "output_type": "stream",
          "name": "stdout",
          "text": [
            "Weather in Honolulu: scattered clouds, Temp: 81.72°F\n"
          ]
        }
      ]
    },
    {
      "cell_type": "code",
      "source": [
        "import requests\n",
        "\n",
        "API_KEY = \"3c4f8587b92d502fb1244f13d5a5b5de\"\n",
        "BASE_URL = \"http://api.openweathermap.org/data/2.5/weather\"\n",
        "\n",
        "def get_weather(cities):\n",
        "    \"\"\"Fetch weather data for multiple cities\"\"\"\n",
        "        weather_data = []\n",
        "\n",
        "                for city in cities:\n",
        "                        params = {\n",
        "                                    \"q\": city,\n",
        "                                                \"appid\": API_KEY,\n",
        "                                                            \"units\": \"metric\"\n",
        "                                                                    }\n",
        "\n",
        "                                                                                    try:\n",
        "                                                                                                response = requests.get(BASE_URL, params=params)\n",
        "                                                                                                            response.raise_for_status()\n",
        "                                                                                                                        data = response.json()\n",
        "\n",
        "                                                                                                                                                weather_info = {\n",
        "                                                                                                                                                                \"city\": city,\n",
        "                                                                                                                                                                                \"temp\": data[\"main\"][\"temp\"],\n",
        "                                                                                                                                                                                                \"feels_like\": data[\"main\"][\"feels_like\"],\n",
        "                                                                                                                                                                                                                \"humidity\": data[\"main\"][\"humidity\"],\n",
        "                                                                                                                                                                                                                                \"weather\": data[\"weather\"][0][\"description\"].title(),\n",
        "                                                                                                                                                                                                                                                \"wind_speed\": data[\"wind\"][\"speed\"]\n",
        "                                                                                                                                                                                                                                                            }\n",
        "                                                                                                                                                                                                                                                                        weather_data.append(weather_info)\n",
        "\n",
        "                                                                                                                                                                                                                                                                                            except requests.exceptions.HTTPError as err:\n",
        "                                                                                                                                                                                                                                                                                                        print(f\"Error fetching data for {city}: {err}\")\n",
        "                                                                                                                                                                                                                                                                                                                except KeyError:\n",
        "                                                                                                                                                                                                                                                                                                                            print(f\"Invalid data format for {city}\")\n",
        "\n",
        "                                                                                                                                                                                                                                                                                                                                    return weather_data\n",
        "\n",
        "                                                                                                                                                                                                                                                                                                                                    def display_weather(weather_data):\n",
        "                                                                                                                                                                                                                                                                                                                                        \"\"\"Display weather summary in readable format\"\"\"\n",
        "                                                                                                                                                                                                                                                                                                                                            print(\"\\n🌦️ Weather Summary 🌞\\n\")\n",
        "                                                                                                                                                                                                                                                                                                                                                for entry in weather_data:\n",
        "                                                                                                                                                                                                                                                                                                                                                        print(f\"📍 {entry['city'].title()}\")\n",
        "                                                                                                                                                                                                                                                                                                                                                                print(f\"  Temperature: {entry['temp']}°C (Feels like {entry['feels_like']}°C)\")\n",
        "                                                                                                                                                                                                                                                                                                                                                                        print(f\"  Conditions: {entry['weather']}\")\n",
        "                                                                                                                                                                                                                                                                                                                                                                                print(f\"  Humidity: {entry['humidity']}%\")\n",
        "                                                                                                                                                                                                                                                                                                                                                                                        print(f\"  Wind Speed: {entry['wind_speed']} m/s\")\n",
        "                                                                                                                                                                                                                                                                                                                                                                                                print(\"─\" * 30)\n",
        "\n",
        "                                                                                                                                                                                                                                                                                                                                                                                                if __name__ == \"__main__\":\n",
        "                                                                                                                                                                                                                                                                                                                                                                                                    cities = [\"London\", \"New York\", \"Tokyo\", \"Paris\", \"Sydney\"]\n",
        "                                                                                                                                                                                                                                                                                                                                                                                                        weather = get_weather(cities)\n",
        "                                                                                                                                                                                                                                                                                                                                                                                                            display_weather(weather)"
      ],
      "metadata": {
        "colab": {
          "base_uri": "https://localhost:8080/",
          "height": 106
        },
        "id": "NLxOVc8ctjRV",
        "outputId": "43d1c04c-b858-4a78-ae17-cf901e3ab682"
      },
      "execution_count": 9,
      "outputs": [
        {
          "output_type": "error",
          "ename": "IndentationError",
          "evalue": "unexpected indent (<ipython-input-9-a5f454fc1b90>, line 8)",
          "traceback": [
            "\u001b[0;36m  File \u001b[0;32m\"<ipython-input-9-a5f454fc1b90>\"\u001b[0;36m, line \u001b[0;32m8\u001b[0m\n\u001b[0;31m    weather_data = []\u001b[0m\n\u001b[0m    ^\u001b[0m\n\u001b[0;31mIndentationError\u001b[0m\u001b[0;31m:\u001b[0m unexpected indent\n"
          ]
        }
      ]
    },
    {
      "cell_type": "code",
      "source": [
        "import requests\n",
        "\n",
        "API_KEY = \"3c4f8587b92d502fb1244f13d5a5b5de\"\n",
        "BASE_URL = \"http://api.openweathermap.org/data/2.5/weather\"\n",
        "\n",
        "def get_weather(cities):\n",
        "    \"\"\"Fetch weather data for multiple cities\"\"\"\n",
        "        weather_data = []\n",
        "\n",
        "                for city in cities:\n",
        "                        params = {\n",
        "                                    \"q\": city,\n",
        "                                                \"appid\": API_KEY,\n",
        "                                                            \"units\": \"metric\"\n",
        "                                                                    }\n",
        "\n",
        "                                                                                    try:\n",
        "                                                                                                response = requests.get(BASE_URL, params=params)\n",
        "                                                                                                            response.raise_for_status()\n",
        "                                                                                                                        data = response.json()\n",
        "\n",
        "                                                                                                                                                weather_info = {\n",
        "                                                                                                                                                                \"city\": city,\n",
        "                                                                                                                                                                                \"temp\": data[\"main\"][\"temp\"],\n",
        "                                                                                                                                                                                                \"feels_like\": data[\"main\"][\"feels_like\"],\n",
        "                                                                                                                                                                                                                \"humidity\": data[\"main\"][\"humidity\"],\n",
        "                                                                                                                                                                                                                                \"weather\": data[\"weather\"][0][\"description\"].title(),\n",
        "                                                                                                                                                                                                                                                \"wind_speed\": data[\"wind\"][\"speed\"]\n",
        "                                                                                                                                                                                                                                                            }\n",
        "                                                                                                                                                                                                                                                                        weather_data.append(weather_info)\n",
        "\n",
        "                                                                                                                                                                                                                                                                                            except requests.exceptions.HTTPError as err:\n",
        "                                                                                                                                                                                                                                                                                                        print(f\"Error fetching data for {city}: {err}\")\n",
        "                                                                                                                                                                                                                                                                                                                except KeyError:\n",
        "                                                                                                                                                                                                                                                                                                                            print(f\"Invalid data format for {city}\")\n",
        "\n",
        "                                                                                                                                                                                                                                                                                                                                    return weather_data\n",
        "\n",
        "                                                                                                                                                                                                                                                                                                                                    def display_weather(weather_data):\n",
        "                                                                                                                                                                                                                                                                                                                                        \"\"\"Display weather summary in readable format\"\"\"\n",
        "                                                                                                                                                                                                                                                                                                                                            print(\"\\n🌦️ Weather Summary 🌞\\n\")\n",
        "                                                                                                                                                                                                                                                                                                                                                for entry in weather_data:\n",
        "                                                                                                                                                                                                                                                                                                                                                        print(f\"📍 {entry['city'].title()}\")\n",
        "                                                                                                                                                                                                                                                                                                                                                                print(f\"  Temperature: {entry['temp']}°C (Feels like {entry['feels_like']}°C)\")\n",
        "                                                                                                                                                                                                                                                                                                                                                                        print(f\"  Conditions: {entry['weather']}\")\n",
        "                                                                                                                                                                                                                                                                                                                                                                                print(f\"  Humidity: {entry['humidity']}%\")\n",
        "                                                                                                                                                                                                                                                                                                                                                                                        print(f\"  Wind Speed: {entry['wind_speed']} m/s\")\n",
        "                                                                                                                                                                                                                                                                                                                                                                                                print(\"─\" * 30)\n",
        "\n",
        "                                                                                                                                                                                                                                                                                                                                                                                                if __name__ == \"__main__\":\n",
        "                                                                                                                                                                                                                                                                                                                                                                                                    cities = [\"London\", \"New York\", \"Tokyo\", \"Paris\", \"Sydney\"]\n",
        "                                                                                                                                                                                                                                                                                                                                                                                                        weather = get_weather(cities)\n",
        "                                                                                                                                                                                                                                                                                                                                                                                                            display_weather(weather)"
      ],
      "metadata": {
        "colab": {
          "base_uri": "https://localhost:8080/",
          "height": 106
        },
        "id": "bxuMdXZTuWzz",
        "outputId": "74126724-c47e-4987-e4f0-5033193d52da"
      },
      "execution_count": 10,
      "outputs": [
        {
          "output_type": "error",
          "ename": "IndentationError",
          "evalue": "unexpected indent (<ipython-input-10-a5f454fc1b90>, line 8)",
          "traceback": [
            "\u001b[0;36m  File \u001b[0;32m\"<ipython-input-10-a5f454fc1b90>\"\u001b[0;36m, line \u001b[0;32m8\u001b[0m\n\u001b[0;31m    weather_data = []\u001b[0m\n\u001b[0m    ^\u001b[0m\n\u001b[0;31mIndentationError\u001b[0m\u001b[0;31m:\u001b[0m unexpected indent\n"
          ]
        }
      ]
    },
    {
      "source": [
        "import requests"
      ],
      "cell_type": "code",
      "metadata": {
        "id": "5YRRoBsOuynU"
      },
      "execution_count": 11,
      "outputs": []
    },
    {
      "source": [
        "API_KEY = \"3c4f8587b92d502fb1244f13d5a5b5de\"\n",
        "BASE_URL = \"http://api.openweathermap.org/data/2.5/weather\""
      ],
      "cell_type": "code",
      "metadata": {
        "id": "WPxDKjetu2XB"
      },
      "execution_count": 12,
      "outputs": []
    },
    {
      "source": [
        "def get_weather(cities):\n",
        "    \"\"\"Fetch weather data for multiple cities\"\"\"\n",
        "    weather_data = []\n",
        "    for city in cities:\n",
        "        params = {\n",
        "            \"q\": city,\n",
        "            \"appid\": API_KEY,\n",
        "            \"units\": \"imperial\"\n",
        "        }\n",
        "        try:\n",
        "            response = requests.get(BASE_URL, params=params)\n",
        "            response.raise_for_status()\n",
        "            data = response.json()\n",
        "            weather_info = {\n",
        "                \"city\": city,\n",
        "                \"temp\": data[\"main\"][\"temp\"],\n",
        "                \"feels_like\": data[\"main\"][\"feels_like\"],\n",
        "                \"humidity\": data[\"main\"][\"humidity\"],\n",
        "                \"weather\": data[\"weather\"][0][\"description\"].title(),\n",
        "                \"wind_speed\": data[\"wind\"][\"speed\"]\n",
        "            }\n",
        "            weather_data.append(weather_info)\n",
        "        except requests.exceptions.HTTPError as err:\n",
        "            print(f\"Error fetching data for {city}: {err}\")\n",
        "        except KeyError:\n",
        "            print(f\"Invalid data format for {city}\")\n",
        "    return weather_data"
      ],
      "cell_type": "code",
      "metadata": {
        "id": "Y_rroEOqu5c9"
      },
      "execution_count": 18,
      "outputs": []
    },
    {
      "source": [
        "def display_weather(weather_data):\n",
        "    \"\"\"Display weather summary in readable format\"\"\"\n",
        "    print(\"\\n🌦️ Weather Summary 🌞\\n\")\n",
        "    for entry in weather_data:\n",
        "        print(f\"📍 {entry['city'].title()}\")\n",
        "        print(f\"  Temperature: {entry['temp']}°F (Feels like {entry['feels_like']}°F)\")\n",
        "        print(f\"  Conditions: {entry['weather']}\")\n",
        "        print(f\"  Humidity: {entry['humidity']}%\")\n",
        "        print(f\"  Wind Speed: {entry['wind_speed']} mph\")\n",
        "        print(\"─\" * 30)"
      ],
      "cell_type": "code",
      "metadata": {
        "id": "RZq7355iu9gL"
      },
      "execution_count": 21,
      "outputs": []
    },
    {
      "source": [
        "if __name__ == \"__main__\":\n",
        "    cities = [\"Hilo\", \"New York\", \"Tokyo\", \"Paris\", \"Sydney\"]\n",
        "    weather = get_weather(cities)\n",
        "    display_weather(weather)"
      ],
      "cell_type": "code",
      "metadata": {
        "colab": {
          "base_uri": "https://localhost:8080/"
        },
        "id": "DFWg7NkgvAOq",
        "outputId": "1c5a18ec-a85c-437b-b559-7d9b61b43675"
      },
      "execution_count": 23,
      "outputs": [
        {
          "output_type": "stream",
          "name": "stdout",
          "text": [
            "\n",
            "🌦️ Weather Summary 🌞\n",
            "\n",
            "📍 Hilo\n",
            "  Temperature: 80.44°F (Feels like 83.39°F)\n",
            "  Conditions: Scattered Clouds\n",
            "  Humidity: 68%\n",
            "  Wind Speed: 13.8 mph\n",
            "──────────────────────────────\n",
            "📍 New York\n",
            "  Temperature: 54.68°F (Feels like 54.03°F)\n",
            "  Conditions: Overcast Clouds\n",
            "  Humidity: 89%\n",
            "  Wind Speed: 11.5 mph\n",
            "──────────────────────────────\n",
            "📍 Tokyo\n",
            "  Temperature: 65.14°F (Feels like 65.86°F)\n",
            "  Conditions: Mist\n",
            "  Humidity: 96%\n",
            "  Wind Speed: 10.36 mph\n",
            "──────────────────────────────\n",
            "📍 Paris\n",
            "  Temperature: 53.22°F (Feels like 50.92°F)\n",
            "  Conditions: Clear Sky\n",
            "  Humidity: 57%\n",
            "  Wind Speed: 6.91 mph\n",
            "──────────────────────────────\n",
            "📍 Sydney\n",
            "  Temperature: 67.68°F (Feels like 67.3°F)\n",
            "  Conditions: Scattered Clouds\n",
            "  Humidity: 67%\n",
            "  Wind Speed: 3.44 mph\n",
            "──────────────────────────────\n"
          ]
        }
      ]
    },
    {
      "cell_type": "markdown",
      "source": [],
      "metadata": {
        "id": "J3piKsbruV4u"
      }
    }
  ]
}