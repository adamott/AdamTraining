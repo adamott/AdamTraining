{
  "cells": [
    {
      "cell_type": "markdown",
      "metadata": {
        "id": "view-in-github",
        "colab_type": "text"
      },
      "source": [
        "<a href=\"https://colab.research.google.com/github/adamott/AdamTraining/blob/main/Day9_chatbot_gpt.ipynb\" target=\"_parent\"><img src=\"https://colab.research.google.com/assets/colab-badge.svg\" alt=\"Open In Colab\"/></a>"
      ]
    },
    {
      "cell_type": "code",
      "source": [
        "!pip install transformers gradio --quiet\n",
        "\n",
        "from transformers import AutoModelForCausalLM, AutoTokenizer, pipeline\n",
        "import gradio as gr\n",
        "\n",
        "model_name = \"microsoft/DialoGPT-medium\"\n",
        "tokenizer = AutoTokenizer.from_pretrained(model_name)\n",
        "model = AutoModelForCausalLM.from_pretrained(model_name)\n",
        "chatbot_pipeline = pipeline(\"text-generation\", model=model, tokenizer=tokenizer)\n",
        "\n",
        "def format_chat_history(history):\n",
        "    formatted = []\n",
        "    for user_msg, bot_msg in history:\n",
        "        formatted.append(f\"User: {user_msg}{tokenizer.eos_token}\")\n",
        "        formatted.append(f\"Bot: {bot_msg}{tokenizer.eos_token}\")\n",
        "    return \"\\n\".join(formatted)\n",
        "\n",
        "def chatbot(user_input, history):\n",
        "    history = history or []\n",
        "\n",
        "    # Format conversation history with EOS tokens\n",
        "    conversation = format_chat_history(history)\n",
        "    prompt = f\"{conversation}User: {user_input}{tokenizer.eos_token}\\nBot:\"\n",
        "\n",
        "    # Generate response\n",
        "    response = chatbot_pipeline(\n",
        "        prompt,\n",
        "        max_new_tokens=200,\n",
        "        pad_token_id=tokenizer.eos_token_id,\n",
        "        temperature=0.85,\n",
        "        repetition_penalty=1.15,\n",
        "        no_repeat_ngram_size=2,\n",
        "        truncation=True\n",
        "    )[0]['generated_text']\n",
        "\n",
        "    # Extract bot reply\n",
        "    try:\n",
        "        # Get the portion after the last Bot: occurrence\n",
        "        bot_reply = response.split(prompt)[1]  # Get newly generated part\n",
        "        bot_reply = bot_reply.split(f\"{tokenizer.eos_token}\")[0]  # Split at EOS\n",
        "        bot_reply = bot_reply.split(\"Bot:\")[-1].strip()\n",
        "    except Exception as e:\n",
        "        bot_reply = \"Hmm, let's talk about something else!\"\n",
        "\n",
        "    # Update conversation history (keep last 5 exchanges)\n",
        "    history.append((user_input, bot_reply))\n",
        "    history = history[-5:]\n",
        "\n",
        "    return \"\", history\n",
        "\n",
        "with gr.Blocks() as demo:\n",
        "    gr.Markdown(\"# Chat with DialoGPT\")\n",
        "    chatbot_interface = gr.Chatbot(height=500)\n",
        "    user_input = gr.Textbox(label=\"Type your message\", placeholder=\"Say something...\")\n",
        "    clear_button = gr.Button(\"Clear Chat\")\n",
        "\n",
        "    user_input.submit(\n",
        "        chatbot,\n",
        "        inputs=[user_input, chatbot_interface],\n",
        "        outputs=[user_input, chatbot_interface]\n",
        "    )\n",
        "    clear_button.click(lambda: [], None, chatbot_interface, queue=False)\n",
        "\n",
        "demo.launch()"
      ],
      "metadata": {
        "colab": {
          "base_uri": "https://localhost:8080/",
          "height": 698
        },
        "id": "wnru0xuLUHZE",
        "outputId": "4bc17ec9-8312-4cfe-c2f1-3392d8a6e8fb"
      },
      "execution_count": 32,
      "outputs": [
        {
          "output_type": "stream",
          "name": "stderr",
          "text": [
            "Device set to use cpu\n",
            "<ipython-input-32-13465c84477a>:53: UserWarning: You have not specified a value for the `type` parameter. Defaulting to the 'tuples' format for chatbot messages, but this is deprecated and will be removed in a future version of Gradio. Please set type='messages' instead, which uses openai-style dictionaries with 'role' and 'content' keys.\n",
            "  chatbot_interface = gr.Chatbot(height=500)\n"
          ]
        },
        {
          "output_type": "stream",
          "name": "stdout",
          "text": [
            "It looks like you are running Gradio on a hosted a Jupyter notebook. For the Gradio app to work, sharing must be enabled. Automatically setting `share=True` (you can turn this off by setting `share=False` in `launch()` explicitly).\n",
            "\n",
            "Colab notebook detected. To show errors in colab notebook, set debug=True in launch()\n",
            "* Running on public URL: https://d911ea26a133dfdfae.gradio.live\n",
            "\n",
            "This share link expires in 1 week. For free permanent hosting and GPU upgrades, run `gradio deploy` from the terminal in the working directory to deploy to Hugging Face Spaces (https://huggingface.co/spaces)\n"
          ]
        },
        {
          "output_type": "display_data",
          "data": {
            "text/plain": [
              "<IPython.core.display.HTML object>"
            ],
            "text/html": [
              "<div><iframe src=\"https://d911ea26a133dfdfae.gradio.live\" width=\"100%\" height=\"500\" allow=\"autoplay; camera; microphone; clipboard-read; clipboard-write;\" frameborder=\"0\" allowfullscreen></iframe></div>"
            ]
          },
          "metadata": {}
        },
        {
          "output_type": "execute_result",
          "data": {
            "text/plain": []
          },
          "metadata": {},
          "execution_count": 32
        }
      ]
    }
  ],
  "metadata": {
    "colab": {
      "provenance": [],
      "authorship_tag": "ABX9TyMB7i/W2EGuopvnQ3lVC9W2",
      "include_colab_link": true
    },
    "kernelspec": {
      "display_name": "Python 3",
      "name": "python3"
    },
    "language_info": {
      "name": "python"
    }
  },
  "nbformat": 4,
  "nbformat_minor": 0
}