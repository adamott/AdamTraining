{
  "nbformat": 4,
  "nbformat_minor": 0,
  "metadata": {
    "colab": {
      "provenance": [],
      "authorship_tag": "ABX9TyOs+Tdjaud6UVL/Am02CTOe",
      "include_colab_link": true
    },
    "kernelspec": {
      "name": "python3",
      "display_name": "Python 3"
    },
    "language_info": {
      "name": "python"
    }
  },
  "cells": [
    {
      "cell_type": "markdown",
      "metadata": {
        "id": "view-in-github",
        "colab_type": "text"
      },
      "source": [
        "<a href=\"https://colab.research.google.com/github/adamott/AdamTraining/blob/main/Day5_Files.ipynb\" target=\"_parent\"><img src=\"https://colab.research.google.com/assets/colab-badge.svg\" alt=\"Open In Colab\"/></a>"
      ]
    },
    {
      "source": [
        "# Writing to a file\n",
        "with open(\"hello.txt\", \"w\") as file:\n",
        "    file.write(\"Hello from Hawaiian Hills!\\n\")"
      ],
      "cell_type": "code",
      "metadata": {
        "id": "3Dbkvs_QWHYA"
      },
      "execution_count": null,
      "outputs": []
    },
    {
      "source": [
        "# Appending to a file\n",
        "with open(\"hello.txt\", \"a\") as file:\n",
        "    file.write(\"Adding another line.\\n\")"
      ],
      "cell_type": "code",
      "metadata": {
        "id": "qqlN25sfWJwZ"
      },
      "execution_count": null,
      "outputs": []
    },
    {
      "source": [
        "# Reading the file\n",
        "with open(\"hello.txt\", \"r\") as file:\n",
        "    content = file.read()\n",
        "    print(content)"
      ],
      "cell_type": "code",
      "metadata": {
        "colab": {
          "base_uri": "https://localhost:8080/"
        },
        "id": "IDZPgiWKWLsZ",
        "outputId": "75ce5f60-1c30-420b-e401-e8a1b2f76b3a"
      },
      "execution_count": null,
      "outputs": [
        {
          "output_type": "stream",
          "name": "stdout",
          "text": [
            "Hello from Hawaiian Hills!\n",
            "Adding another line.\n",
            "\n"
          ]
        }
      ]
    },
    {
      "source": [
        "def register_user():\n",
        "    username = input(\"Create username: \")\n",
        "    password = input(\"Create password: \")\n",
        "\n",
        "    with open(\"users.txt\", \"a\") as file:\n",
        "        file.write(f\"{username}:{password}\\n\")\n",
        "    print(\"Registration successful!\")"
      ],
      "cell_type": "code",
      "metadata": {
        "id": "fdAsZ9YUXJXI"
      },
      "execution_count": null,
      "outputs": []
    },
    {
      "source": [
        "def login_user():\n",
        "    username = input(\"Username: \")\n",
        "    password = input(\"Password: \")\n",
        "\n",
        "    with open(\"users.txt\", \"r\") as file:\n",
        "        for line in file:\n",
        "            stored_user, stored_pass = line.strip().split(\":\")\n",
        "            if username == stored_user and password == stored_pass:\n",
        "                print(\"Login successful!\")\n",
        "                return\n",
        "        print(\"Invalid credentials!\")"
      ],
      "cell_type": "code",
      "metadata": {
        "id": "wN5eglQ-XLaR"
      },
      "execution_count": null,
      "outputs": []
    },
    {
      "cell_type": "code",
      "source": [
        "register_user()  # Create test user: alice / wonderland"
      ],
      "metadata": {
        "colab": {
          "base_uri": "https://localhost:8080/"
        },
        "id": "L6txr6sAXbdu",
        "outputId": "3d809662-996e-4047-bc56-799a2a7c5b29"
      },
      "execution_count": null,
      "outputs": [
        {
          "output_type": "stream",
          "name": "stdout",
          "text": [
            "Create username: Alice\n",
            "Create password: Wonderland\n",
            "Registration successful!\n"
          ]
        }
      ]
    },
    {
      "cell_type": "code",
      "source": [
        "login_user()     # Try correct and incorrect credentials"
      ],
      "metadata": {
        "colab": {
          "base_uri": "https://localhost:8080/"
        },
        "id": "TAIlhKe1YCkR",
        "outputId": "96ec7ad4-96a6-42d6-eb08-9f87b5ca4216"
      },
      "execution_count": null,
      "outputs": [
        {
          "output_type": "stream",
          "name": "stdout",
          "text": [
            "Username: Adam\n",
            "Password: Aloha\n",
            "Login successful!\n"
          ]
        }
      ]
    },
    {
      "cell_type": "markdown",
      "source": [],
      "metadata": {
        "id": "b62ZbVp-X_JB"
      }
    },
    {
      "source": [
        "def save_contact(name, phone, email):\n",
        "      with open(\"contacts.txt\", \"a\") as f:\n",
        "              f.write(f\"{name},{phone},{email}\\n\")"
      ],
      "cell_type": "code",
      "metadata": {
        "id": "Et5amJUHZaNw"
      },
      "execution_count": 2,
      "outputs": []
    },
    {
      "source": [
        "def view_contacts():\n",
        "    with open(\"contacts.txt\", \"r\") as f:\n",
        "        for line in f:\n",
        "            name, phone, email = line.strip().split(\",\")\n",
        "            print(f\"Name: {name} | Phone: {phone} | Email: {email}\")"
      ],
      "cell_type": "code",
      "metadata": {
        "id": "x2svSGO_Zcsu"
      },
      "execution_count": 3,
      "outputs": []
    },
    {
      "cell_type": "code",
      "source": [
        "save_contact(\"Adam\", \"808-123-4567\", \"adam@hawaiianhills.org\")\n",
        "view_contacts()"
      ],
      "metadata": {
        "id": "BiZLcMTsZsf8",
        "outputId": "50b591b8-b0d8-403c-a484-41b0524ed42e",
        "colab": {
          "base_uri": "https://localhost:8080/"
        }
      },
      "execution_count": 4,
      "outputs": [
        {
          "output_type": "stream",
          "name": "stdout",
          "text": [
            "Name: Adam | Phone: 808-123-4567 | Email: adam@hawaiianhills.org\n"
          ]
        }
      ]
    },
    {
      "cell_type": "markdown",
      "source": [],
      "metadata": {
        "id": "qPsAqgb2XaYO"
      }
    }
  ]
}