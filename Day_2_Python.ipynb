{
  "nbformat": 4,
  "nbformat_minor": 0,
  "metadata": {
    "colab": {
      "provenance": [],
      "authorship_tag": "ABX9TyOlhnlMNcEdY83i+SCBAvKD",
      "include_colab_link": true
    },
    "kernelspec": {
      "name": "python3",
      "display_name": "Python 3"
    },
    "language_info": {
      "name": "python"
    }
  },
  "cells": [
    {
      "cell_type": "markdown",
      "metadata": {
        "id": "view-in-github",
        "colab_type": "text"
      },
      "source": [
        "<a href=\"https://colab.research.google.com/github/adamott/AdamTraining/blob/main/Day_2_Python.ipynb\" target=\"_parent\"><img src=\"https://colab.research.google.com/assets/colab-badge.svg\" alt=\"Open In Colab\"/></a>"
      ]
    },
    {
      "cell_type": "code",
      "source": [],
      "metadata": {
        "id": "6yTDPC-szIko"
      },
      "execution_count": null,
      "outputs": []
    },
    {
      "source": [
        "# Example 1: Simple If Statement\n",
        "temperature = 85\n",
        "if temperature > 80:\n",
        "    print(\"It's hot today!\")\n",
        "\n",
        "    # Example 2: If-Else\n",
        "    rain = False\n",
        "# Example 1: Simple If Statement\n",
        "temperature = 85\n",
        "if temperature > 80:\n",
        "    print(\"It's hot today!\")\n",
        "\n",
        "# Example 2: If-Else\n",
        "rain = False\n",
        "if rain:\n",
        "    print(\"Bring an umbrella.\")\n",
        "else:\n",
        "    print(\"No rain today!\")\n",
        "\n",
        "# Example 3: Elif Chain\n",
        "time = 14\n",
        "if time < 12:\n",
        "    print(\"Good morning!\")\n",
        "elif time < 18:\n",
        "    print(\"Good afternoon!\")\n",
        "else:\n",
        "    print(\"Good evening!\")\n",
        "\n",
        "# Example 4: Logical Operators\n",
        "user = \"Adam\"\n",
        "is_admin = True\n",
        "if user == \"Adam\" and is_admin:\n",
        "    print(\"Access granted.\")\n",
        "else:\n",
        "    print(\"Access denied.\")\n",
        "\n",
        "# Example 3: Elif Chain  -- This was nested incorrectly. Moved outside previous blocks.\n",
        "time = 14\n",
        "if time < 12:\n",
        "    print(\"Good morning!\")\n",
        "elif time < 18:\n",
        "    print(\"Good afternoon!\")\n",
        "else:\n",
        "    print(\"Good evening!\")\n",
        "\n",
        "# Example 4: Logical Operators -- This was nested incorrectly. Moved outside previous blocks.\n",
        "user = \"Adam\"\n",
        "is_admin = True\n",
        "if user == \"Adam\" and is_admin:\n",
        "    print(\"Access granted.\")\n",
        "else:\n",
        "    print(\"Access denied.\")"
      ],
      "cell_type": "code",
      "metadata": {
        "colab": {
          "base_uri": "https://localhost:8080/"
        },
        "id": "TshtnLxIzM2s",
        "outputId": "ce9cf372-d861-41e6-efed-02165b52fe93"
      },
      "execution_count": 9,
      "outputs": [
        {
          "output_type": "stream",
          "name": "stdout",
          "text": [
            "It's hot today!\n",
            "It's hot today!\n",
            "No rain today!\n",
            "Good afternoon!\n",
            "Access granted.\n",
            "Good afternoon!\n",
            "Access granted.\n"
          ]
        }
      ]
    }
  ]
}