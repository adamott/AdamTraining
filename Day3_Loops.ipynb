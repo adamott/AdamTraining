{
  "nbformat": 4,
  "nbformat_minor": 0,
  "metadata": {
    "colab": {
      "provenance": [],
      "authorship_tag": "ABX9TyNRsnEbjTUNq2N0fWZw0SXP",
      "include_colab_link": true
    },
    "kernelspec": {
      "name": "python3",
      "display_name": "Python 3"
    },
    "language_info": {
      "name": "python"
    }
  },
  "cells": [
    {
      "cell_type": "markdown",
      "metadata": {
        "id": "view-in-github",
        "colab_type": "text"
      },
      "source": [
        "<a href=\"https://colab.research.google.com/github/adamott/AdamTraining/blob/main/Day3_Loops.ipynb\" target=\"_parent\"><img src=\"https://colab.research.google.com/assets/colab-badge.svg\" alt=\"Open In Colab\"/></a>"
      ]
    },
    {
      "cell_type": "code",
      "execution_count": null,
      "metadata": {
        "id": "uVBVGtUX9XGJ"
      },
      "outputs": [],
      "source": []
    },
    {
      "source": [
        "# FOR loop example\n",
        "fruits = [\"banana\", \"apple\", \"papaya\"]\n",
        "for fruit in fruits:\n",
        "    print(\"I like\", fruit)"
      ],
      "cell_type": "code",
      "metadata": {
        "colab": {
          "base_uri": "https://localhost:8080/"
        },
        "id": "hzSS79RfBW_E",
        "outputId": "7eb0483d-069b-4dd1-8eac-b23054c74338"
      },
      "execution_count": 2,
      "outputs": [
        {
          "output_type": "stream",
          "name": "stdout",
          "text": [
            "I like banana\n",
            "I like apple\n",
            "I like papaya\n"
          ]
        }
      ]
    },
    {
      "source": [
        "# WHILE loop example\n",
        "count = 0\n",
        "while count < 3:\n",
        "    print(\"Counting:\", count)\n",
        "    count += 1"
      ],
      "cell_type": "code",
      "metadata": {
        "colab": {
          "base_uri": "https://localhost:8080/"
        },
        "id": "fYuPS56DBc_v",
        "outputId": "626cf217-6d81-483e-ed7f-844e94a33a82"
      },
      "execution_count": 3,
      "outputs": [
        {
          "output_type": "stream",
          "name": "stdout",
          "text": [
            "Counting: 0\n",
            "Counting: 1\n",
            "Counting: 2\n"
          ]
        }
      ]
    },
    {
      "source": [
        "# BREAK and CONTINUE\n",
        "for i in range(5500):\n",
        "    if i == 3:\n",
        "        continue  # skip 2\n",
        "    if i == 40:\n",
        "        break     # stop before 40\n",
        "    print(\"Loop value:\", i)"
      ],
      "cell_type": "code",
      "metadata": {
        "colab": {
          "base_uri": "https://localhost:8080/"
        },
        "id": "U_PZZSH2Bj5U",
        "outputId": "ed0d06e8-0bc6-469f-b4d2-5fc7298ccf68"
      },
      "execution_count": 12,
      "outputs": [
        {
          "output_type": "stream",
          "name": "stdout",
          "text": [
            "Loop value: 0\n",
            "Loop value: 1\n",
            "Loop value: 2\n",
            "Loop value: 4\n",
            "Loop value: 5\n",
            "Loop value: 6\n",
            "Loop value: 7\n",
            "Loop value: 8\n",
            "Loop value: 9\n",
            "Loop value: 10\n",
            "Loop value: 11\n",
            "Loop value: 12\n",
            "Loop value: 13\n",
            "Loop value: 14\n",
            "Loop value: 15\n",
            "Loop value: 16\n",
            "Loop value: 17\n",
            "Loop value: 18\n",
            "Loop value: 19\n",
            "Loop value: 20\n",
            "Loop value: 21\n",
            "Loop value: 22\n",
            "Loop value: 23\n",
            "Loop value: 24\n",
            "Loop value: 25\n",
            "Loop value: 26\n",
            "Loop value: 27\n",
            "Loop value: 28\n",
            "Loop value: 29\n",
            "Loop value: 30\n",
            "Loop value: 31\n",
            "Loop value: 32\n",
            "Loop value: 33\n",
            "Loop value: 34\n",
            "Loop value: 35\n",
            "Loop value: 36\n",
            "Loop value: 37\n",
            "Loop value: 38\n",
            "Loop value: 39\n"
          ]
        }
      ]
    },
    {
      "cell_type": "markdown",
      "source": [
        "SUM OF EVEN NUMBERS"
      ],
      "metadata": {
        "id": "uz0UpEs2FhGu"
      }
    },
    {
      "cell_type": "code",
      "source": [
        "n = int(input(\"Enter a number: \"))\n",
        "total = 0\n",
        "for num in range(1, n+1):\n",
        "    if num % 2 == 0:\n",
        "            total += num\n",
        "            print(f\"Sum of even numbers: {total}\")"
      ],
      "metadata": {
        "colab": {
          "base_uri": "https://localhost:8080/"
        },
        "id": "wqnd8lDgC49t",
        "outputId": "f910233b-af46-476c-d449-d48a26379b48"
      },
      "execution_count": 14,
      "outputs": [
        {
          "output_type": "stream",
          "name": "stdout",
          "text": [
            "Enter a number: 6\n",
            "Sum of even numbers: 2\n",
            "Sum of even numbers: 6\n",
            "Sum of even numbers: 12\n"
          ]
        }
      ]
    },
    {
      "cell_type": "markdown",
      "source": [
        "MULTIPLICATION TABLES"
      ],
      "metadata": {
        "id": "wlroB8nME6Yu"
      }
    },
    {
      "cell_type": "code",
      "source": [
        "num = int(input(\"Enter a number: \"))\n",
        "for i in range(1, 15):\n",
        "    print(f\"{num} x {i} = {num*i}\")"
      ],
      "metadata": {
        "colab": {
          "base_uri": "https://localhost:8080/"
        },
        "id": "h0Z1j7v-DcbL",
        "outputId": "38ab4f69-9226-4066-a7e1-5d7a393152a1"
      },
      "execution_count": 17,
      "outputs": [
        {
          "output_type": "stream",
          "name": "stdout",
          "text": [
            "Enter a number: 5\n",
            "5 x 1 = 5\n",
            "5 x 2 = 10\n",
            "5 x 3 = 15\n",
            "5 x 4 = 20\n",
            "5 x 5 = 25\n",
            "5 x 6 = 30\n",
            "5 x 7 = 35\n",
            "5 x 8 = 40\n",
            "5 x 9 = 45\n",
            "5 x 10 = 50\n",
            "5 x 11 = 55\n",
            "5 x 12 = 60\n",
            "5 x 13 = 65\n",
            "5 x 14 = 70\n"
          ]
        }
      ]
    },
    {
      "cell_type": "markdown",
      "source": [
        "GUESS THE NUMBER GAME"
      ],
      "metadata": {
        "id": "PamO1MfCEwSe"
      }
    },
    {
      "source": [
        "import random\n",
        "\n",
        "target = random.randint(1, 10)\n",
        "attempts = 0\n",
        "\n",
        "while True:\n",
        "    guess = int(input(\"Guess (1-10): \"))\n",
        "    attempts += 1\n",
        "\n",
        "    if guess < target:\n",
        "        print(\"Too low!\")\n",
        "    elif guess > target:\n",
        "        print(\"Too high!\")\n",
        "    else:\n",
        "        print(f\"Correct! Guesses: {attempts}\")\n",
        "        break"
      ],
      "cell_type": "code",
      "metadata": {
        "colab": {
          "base_uri": "https://localhost:8080/"
        },
        "id": "XmY6GrmuEI-6",
        "outputId": "0332e026-1664-4512-d3b2-c4a66edeb937"
      },
      "execution_count": 19,
      "outputs": [
        {
          "output_type": "stream",
          "name": "stdout",
          "text": [
            "Guess (1-10): 8\n",
            "Too low!\n",
            "Guess (1-10): 9\n",
            "Correct! Guesses: 2\n"
          ]
        }
      ]
    }
  ]
}